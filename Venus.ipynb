{
 "metadata": {
  "language_info": {
   "codemirror_mode": {
    "name": "ipython",
    "version": 3
   },
   "file_extension": ".py",
   "mimetype": "text/x-python",
   "name": "python",
   "nbconvert_exporter": "python",
   "pygments_lexer": "ipython3",
   "version": "3.7.9-final"
  },
  "orig_nbformat": 2,
  "kernelspec": {
   "name": "python3",
   "display_name": "Python 3"
  }
 },
 "nbformat": 4,
 "nbformat_minor": 2,
 "cells": [
  {
   "source": [
    "# Cálculo del Periodo de Traslación de Venus\n",
    "\n",
    "Más detalles...\n"
   ],
   "cell_type": "markdown",
   "metadata": {}
  },
  {
   "source": [
    "## Gráfico\n",
    "\n",
    "![](https://planetavenus.net/wp-content/uploads/2018/05/rotacion-traslacion-de-venus.jpg)\n",
    "\n",
    "\n"
   ],
   "cell_type": "markdown",
   "metadata": {}
  },
  {
   "source": [
    "## Desarrollo del ejercicio\n",
    "\n",
    "Cargar los paquetes de Sympy necesarios\n",
    "\n",
    "\n",
    "\n"
   ],
   "cell_type": "markdown",
   "metadata": {}
  },
  {
   "source": [
    "from sympy import solve, symbols, pi, Eq # Cargamos objetos directos de Sympy\n",
    "# Unidades S.I.\n",
    "from sympy.physics.units import meter, kilogram, second, kelvin, newton, day\n",
    "# Cargamos la función convert_to para pasar de unas unidades a otras\n",
    "from sympy.physics.units import convert_to \n",
    "# Cargamos constantes\n",
    "# La constante de gravitacón universal https://www.google.com/search?q=gravitational+constant \n",
    "from sympy.physics.units import gravitational_constant as G "
   ],
   "cell_type": "code",
   "metadata": {},
   "execution_count": 1,
   "outputs": []
  },
  {
   "source": [
    "La incógnita del problema es $T$\n"
   ],
   "cell_type": "markdown",
   "metadata": {}
  },
  {
   "cell_type": "code",
   "execution_count": 2,
   "metadata": {},
   "outputs": [],
   "source": [
    "T = symbols(\"T\")"
   ]
  },
  {
   "source": [
    "Datos conocidos:\n",
    "* La masa del sol ($M_\\odot$) y,\n",
    "* El semieje mayor de venus (a)\n"
   ],
   "cell_type": "markdown",
   "metadata": {}
  },
  {
   "cell_type": "code",
   "execution_count": 3,
   "metadata": {},
   "outputs": [],
   "source": [
    "a = 108208000e3 * meter\n",
    "M0 = 1.9891e30 * kilogram\n"
   ]
  },
  {
   "source": [
    "Usamos la ecuación de Kepler que relaciona los elementos anteriores\n",
    "$$\n",
    "\\frac{T^2}{a^3} = \\frac{4\\ \\pi^2}{G \\ M}\n",
    "$$"
   ],
   "cell_type": "markdown",
   "metadata": {}
  },
  {
   "source": [
    "Redactamos en Sympy:"
   ],
   "cell_type": "markdown",
   "metadata": {}
  },
  {
   "cell_type": "code",
   "execution_count": 7,
   "metadata": {},
   "outputs": [],
   "source": [
    "eq_kepler = Eq(T**2 / a**3, 4*pi**2 / G / M0)"
   ]
  },
  {
   "source": [
    "Resolvemos la ecuación anterior"
   ],
   "cell_type": "markdown",
   "metadata": {}
  },
  {
   "source": [
    "soluciones = solve(eq_kepler, T)[1]\n",
    "\n",
    "soluciones"
   ],
   "cell_type": "code",
   "metadata": {},
   "execution_count": 8,
   "outputs": [
    {
     "output_type": "execute_result",
     "data": {
      "text/plain": [
       "158.577152366205*meter**(3/2)/(sqrt(gravitational_constant)*sqrt(kilogram))"
      ],
      "text/latex": "$\\displaystyle \\frac{158.577152366205 \\text{m}^{\\frac{3}{2}}}{\\sqrt{\\text{G}} \\sqrt{\\text{kg}}}$"
     },
     "metadata": {},
     "execution_count": 8
    }
   ]
  },
  {
   "source": [
    "En días:"
   ],
   "cell_type": "markdown",
   "metadata": {}
  },
  {
   "cell_type": "code",
   "execution_count": 10,
   "metadata": {},
   "outputs": [
    {
     "output_type": "execute_result",
     "data": {
      "text/plain": [
       "2.2e+2*day"
      ],
      "text/latex": "$\\displaystyle 2.2 \\cdot 10^{2} \\text{day}$"
     },
     "metadata": {},
     "execution_count": 10
    }
   ],
   "source": [
    "convert_to(soluciones, [day]).n(2)"
   ]
  }
 ]
}